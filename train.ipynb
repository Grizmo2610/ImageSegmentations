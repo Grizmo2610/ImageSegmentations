{
 "cells": [
  {
   "cell_type": "code",
   "execution_count": 1,
   "metadata": {
    "execution": {
     "iopub.execute_input": "2025-04-19T16:35:52.298474Z",
     "iopub.status.busy": "2025-04-19T16:35:52.298172Z",
     "iopub.status.idle": "2025-04-19T16:36:00.232651Z",
     "shell.execute_reply": "2025-04-19T16:36:00.231786Z",
     "shell.execute_reply.started": "2025-04-19T16:35:52.298446Z"
    },
    "trusted": true
   },
   "outputs": [
    {
     "name": "stderr",
     "output_type": "stream",
     "text": [
      "/usr/local/lib/python3.10/dist-packages/albumentations/__init__.py:24: UserWarning: A new version of Albumentations is available: 2.0.5 (you have 1.4.20). Upgrade using: pip install -U albumentations. To disable automatic update checks, set the environment variable NO_ALBUMENTATIONS_UPDATE to 1.\n",
      "  check_for_updates()\n"
     ]
    }
   ],
   "source": [
    "from pycocotools.coco import COCO\n",
    "\n",
    "import gc\n",
    "import re\n",
    "import os\n",
    "import cv2\n",
    "import json\n",
    "import time\n",
    "import numpy as np\n",
    "from PIL import Image\n",
    "import logging\n",
    "from tqdm import tqdm\n",
    "import matplotlib.pyplot as plt\n",
    "\n",
    "import albumentations as A\n",
    "from albumentations.pytorch import ToTensorV2\n",
    "\n",
    "import torch\n",
    "import torch.nn as nn\n",
    "import torch.optim as optim\n",
    "import torch.nn.functional as F\n",
    "from torch.optim.lr_scheduler import StepLR\n",
    "from torch.utils.data import Dataset, DataLoader, ConcatDataset\n",
    "import torchvision.transforms as transforms"
   ]
  },
  {
   "cell_type": "code",
   "execution_count": 2,
   "metadata": {
    "execution": {
     "iopub.execute_input": "2025-04-19T16:36:03.820022Z",
     "iopub.status.busy": "2025-04-19T16:36:03.819574Z",
     "iopub.status.idle": "2025-04-19T16:36:03.825249Z",
     "shell.execute_reply": "2025-04-19T16:36:03.824490Z",
     "shell.execute_reply.started": "2025-04-19T16:36:03.819998Z"
    },
    "trusted": true
   },
   "outputs": [],
   "source": [
    "if os.path.exists('logfile.log'):\n",
    "    os.remove('logfile.log')\n",
    "\n",
    "logger = logging.getLogger(__name__)\n",
    "logger.setLevel(logging.DEBUG)\n",
    "\n",
    "file_handler = logging.FileHandler('logfile.log')\n",
    "console_handler = logging.StreamHandler()\n",
    "\n",
    "formatter = logging.Formatter('%(message)s')\n",
    "file_handler.setFormatter(formatter)\n",
    "console_handler.setFormatter(formatter)\n",
    "\n",
    "logger.handlers.clear()\n",
    "\n",
    "logger.addHandler(file_handler)\n",
    "logger.addHandler(console_handler)"
   ]
  },
  {
   "cell_type": "code",
   "execution_count": 3,
   "metadata": {
    "execution": {
     "iopub.execute_input": "2025-04-19T16:36:10.082182Z",
     "iopub.status.busy": "2025-04-19T16:36:10.081899Z",
     "iopub.status.idle": "2025-04-19T16:36:10.137033Z",
     "shell.execute_reply": "2025-04-19T16:36:10.136362Z",
     "shell.execute_reply.started": "2025-04-19T16:36:10.082162Z"
    },
    "trusted": true
   },
   "outputs": [
    {
     "name": "stderr",
     "output_type": "stream",
     "text": [
      "Device using: cuda\n",
      "CPU Count: 4\n"
     ]
    }
   ],
   "source": [
    "data_path = '/kaggle/input/coco-2017-dataset'\n",
    "FOLDER_PATH = os.path.join(data_path, 'coco2017/')\n",
    "MODEL_FOLDER = 'models'\n",
    "if not os.path.exists(MODEL_FOLDER):\n",
    "    os.makedirs(MODEL_FOLDER)\n",
    "\n",
    "IMAGE_SIZE = 224\n",
    "NUM_WORKER = os.cpu_count()\n",
    "learning_rate=1e-3\n",
    "epochs = 6\n",
    "patience = 3\n",
    "counter = 0\n",
    "\n",
    "if torch.cuda.is_available():\n",
    "    BATCH_SIZE = 8\n",
    "    device = torch.device(\"cuda\")\n",
    "else:\n",
    "    BATCH_SIZE = 128\n",
    "    device = torch.device(\"cpu\")\n",
    "\n",
    "logger.info(f'Device using: {device}')\n",
    "logger.info(f'CPU Count: {NUM_WORKER}')"
   ]
  },
  {
   "cell_type": "code",
   "execution_count": 4,
   "metadata": {
    "execution": {
     "iopub.execute_input": "2025-04-19T16:36:11.730404Z",
     "iopub.status.busy": "2025-04-19T16:36:11.730126Z",
     "iopub.status.idle": "2025-04-19T16:36:11.736843Z",
     "shell.execute_reply": "2025-04-19T16:36:11.735918Z",
     "shell.execute_reply.started": "2025-04-19T16:36:11.730383Z"
    },
    "trusted": true
   },
   "outputs": [],
   "source": [
    "def clean_json(json_path, image_root, save_path=None):\n",
    "    with open(json_path, 'r') as f:\n",
    "        data = json.load(f)\n",
    "    \n",
    "    valid_images = []\n",
    "    valid_ids = set()\n",
    "    for img in tqdm(data['images']):\n",
    "        img_url = img['coco_url']\n",
    "        img_name = os.path.basename(img_url)\n",
    "        img_path = os.path.join(image_root, img_name)\n",
    "        \n",
    "        if os.path.exists(img_path):\n",
    "            valid_images.append(img)\n",
    "            valid_ids.add(img['id'])\n",
    "    valid_annotations = [ann for ann in data['annotations'] if ann['image_id'] in valid_ids]\n",
    "\n",
    "    cleaned_data = {\n",
    "        \"images\": valid_images,\n",
    "        \"annotations\": valid_annotations,\n",
    "        \"categories\": data[\"categories\"]\n",
    "    }\n",
    "    logger.info(f'From {len(data[\"images\"])} to {len(cleaned_data[\"images\"])}')\n",
    "    if save_path is None:\n",
    "        save_path = 'cleaned.json'\n",
    "    with open(save_path, 'w') as f:\n",
    "        json.dump(cleaned_data, f)\n",
    "\n",
    "    logger.info(f\"Saved cleaned file to {save_path}\")\n",
    "    return cleaned_data\n",
    "clean = False\n",
    "if clean:\n",
    "    clean = clean_json('/kaggle/input/lvis-v1/lvis_v1_val/lvis_v1_val.json', '/kaggle/input/lvis-v1/lvis_v1_val/val2017')"
   ]
  },
  {
   "cell_type": "code",
   "execution_count": 6,
   "metadata": {
    "_cell_guid": "b1076dfc-b9ad-4769-8c92-a6c4dae69d19",
    "_uuid": "8f2839f25d086af736a60e9eeb907d3b93b6e0e5",
    "execution": {
     "iopub.execute_input": "2025-04-19T16:39:33.810532Z",
     "iopub.status.busy": "2025-04-19T16:39:33.810213Z",
     "iopub.status.idle": "2025-04-19T16:40:32.750410Z",
     "shell.execute_reply": "2025-04-19T16:40:32.749629Z",
     "shell.execute_reply.started": "2025-04-19T16:39:33.810509Z"
    },
    "trusted": true
   },
   "outputs": [
    {
     "name": "stdout",
     "output_type": "stream",
     "text": [
      "loading annotations into memory...\n",
      "Done (t=20.31s)\n",
      "creating index...\n",
      "index created!\n",
      "loading annotations into memory...\n",
      "Done (t=30.36s)\n",
      "creating index...\n",
      "index created!\n",
      "loading annotations into memory...\n",
      "Done (t=0.76s)\n",
      "creating index...\n",
      "index created!\n",
      "loading annotations into memory...\n",
      "Done (t=0.59s)\n",
      "creating index...\n",
      "index created!\n"
     ]
    }
   ],
   "source": [
    "class CustomDataset(Dataset):\n",
    "    def __init__(self, coco_root, coco_ann, lvis_root, lvis_ann, transform=None):\n",
    "        self.coco = None\n",
    "        self.lvis = None\n",
    "        if coco_root:\n",
    "            self.coco = COCO(coco_ann)\n",
    "            self.coco_ids = list(self.coco.imgs.keys())\n",
    "        if lvis_root:\n",
    "            self.lvis = COCO(lvis_ann)\n",
    "            self.lvis_ids = list(self.lvis.imgs.keys())\n",
    "        \n",
    "        if coco_root and lvis_root:\n",
    "            self.ids = self.coco_ids + self.lvis_ids\n",
    "            self.sources = [\"coco\"] * len(self.coco_ids) + [\"lvis\"] * len(self.lvis_ids)\n",
    "            all_cat_ids = sorted(set(self.coco.getCatIds()) | set(self.lvis.getCatIds()))\n",
    "        elif coco_root is None:\n",
    "            self.ids = self.lvis_ids\n",
    "            self.sources = [\"lvis\"] * len(self.lvis_ids)\n",
    "            all_cat_ids = sorted(set(self.lvis.getCatIds()))\n",
    "        elif lvis_root is None:\n",
    "            self.ids = self.coco_ids\n",
    "            self.sources = [\"coco\"] * len(self.coco_ids)\n",
    "            all_cat_ids = sorted(set(self.coco.getCatIds()))\n",
    "\n",
    "        self.roots = {\"coco\": coco_root, \"lvis\": lvis_root}\n",
    "        self.transform = transform\n",
    "\n",
    "        self.cat_id_map = {cat_id: i + 1 for i, cat_id in enumerate(all_cat_ids)}\n",
    "        self.index = -1\n",
    "\n",
    "    def __len__(self):\n",
    "        return len(self.ids)\n",
    "\n",
    "    def get_img_path(self, source: str, img_info):\n",
    "        if source == \"coco\":\n",
    "            img_path = os.path.join(self.roots[source], img_info[\"file_name\"])\n",
    "        else:  # Assuming 'source' is 'lvis'\n",
    "            img_url = img_info.get('coco_url', img_info.get('flickr_url', ''))\n",
    "            img_name = os.path.basename(img_url)\n",
    "            img_path = os.path.join(self.roots[source], img_name)\n",
    "        return img_path\n",
    "\n",
    "    def __getitem__(self, index):\n",
    "        source = self.sources[index]\n",
    "        img_id = self.ids[index]\n",
    "\n",
    "        coco_api = self.coco if source == \"coco\" else self.lvis\n",
    "        img_info = coco_api.loadImgs(img_id)[0]\n",
    "        ann_ids = coco_api.getAnnIds(imgIds=img_id)\n",
    "        annotations = coco_api.loadAnns(ann_ids)\n",
    "        \n",
    "        img_path = self.get_img_path(source, img_info)\n",
    "        image = cv2.imread(img_path)\n",
    "        if image is None:\n",
    "            logger.error(f'Error reading at: {img_path}')\n",
    "            return self.__getitem__(self.index)\n",
    "        image = cv2.cvtColor(image, cv2.COLOR_BGR2RGB)\n",
    "            \n",
    "        mask = np.zeros((img_info[\"height\"], img_info[\"width\"]), dtype=np.uint16)\n",
    "        for ann in annotations:\n",
    "            ann_mask = coco_api.annToMask(ann)\n",
    "            mask = np.maximum(mask, ann_mask)\n",
    "\n",
    "\n",
    "        if self.transform:\n",
    "            augmented = self.transform(image=image, mask=mask)\n",
    "            image, mask = augmented[\"image\"], augmented[\"mask\"]\n",
    "            \n",
    "        self.index = index\n",
    "        return image, mask.long()\n",
    "    def get_num_classes(self):\n",
    "        cat_ids_coco = self.coco.getCatIds() if self.coco else []\n",
    "        cat_ids_lvis = self.lvis.getCatIds() if self.lvis else []\n",
    "        all_cat_ids = sorted(set(cat_ids_coco) | set(cat_ids_lvis))\n",
    "        return len(all_cat_ids) + 1\n",
    "\n",
    "# Augmentations\n",
    "train_transform = A.Compose([\n",
    "    A.Resize(IMAGE_SIZE, IMAGE_SIZE),\n",
    "    A.RandomResizedCrop(IMAGE_SIZE, IMAGE_SIZE, scale=(0.8, 1.0), ratio=(0.75, 1.33), p=0.5),\n",
    "    A.HorizontalFlip(p=0.5),\n",
    "    A.VerticalFlip(p=0.2),\n",
    "    A.RandomRotate90(p=0.5),\n",
    "    A.ShiftScaleRotate(shift_limit=0.05, scale_limit=0.1, rotate_limit=15, p=0.5),\n",
    "    A.ColorJitter(brightness=0.2, contrast=0.2, saturation=0.2, hue=0.1, p=0.5),\n",
    "    A.GaussNoise(var_limit=(10.0, 50.0), p=0.3),\n",
    "    A.MotionBlur(blur_limit=3, p=0.2),\n",
    "    A.Normalize(mean=(0.485, 0.456, 0.406), std=(0.229, 0.224, 0.225)),\n",
    "    ToTensorV2(),\n",
    "])\n",
    "\n",
    "\n",
    "val_transform = A.Compose([\n",
    "    A.Resize(IMAGE_SIZE, IMAGE_SIZE),\n",
    "    A.Normalize(mean=(0.485, 0.456, 0.406), std=(0.229, 0.224, 0.225)),\n",
    "    ToTensorV2(),\n",
    "])\n",
    "\n",
    "# Load datasets\n",
    "coco_train = CustomDataset(\n",
    "    coco_root=os.path.join(FOLDER_PATH, \"train2017\"),\n",
    "    coco_ann=os.path.join(FOLDER_PATH, \"annotations/instances_train2017.json\"),\n",
    "    lvis_root='/kaggle/input/lvis-v1/train2017/train2017',\n",
    "    lvis_ann='/kaggle/input/lvis-v1/lvis_v1_train.json/lvis_v1_train.json',\n",
    "    transform=train_transform\n",
    ")\n",
    "\n",
    "lvis_val_train = CustomDataset(\n",
    "    coco_root=None,\n",
    "    coco_ann=None,\n",
    "    lvis_root='/kaggle/input/lvis-v1/lvis_v1_val/val2017',\n",
    "    lvis_ann='cleaned.json',\n",
    "    transform=train_transform\n",
    ")\n",
    "\n",
    "train_dataset = ConcatDataset([coco_train, lvis_val_train])\n",
    "train_loader = DataLoader(train_dataset, batch_size=BATCH_SIZE, shuffle=True, num_workers=NUM_WORKER)\n",
    "\n",
    "val_dataset = CustomDataset(\n",
    "    coco_root=os.path.join(FOLDER_PATH, \"val2017\"), \n",
    "    coco_ann=os.path.join(FOLDER_PATH, \"annotations/instances_val2017.json\"), \n",
    "    lvis_root=None,\n",
    "    lvis_ann=None,\n",
    "    transform=val_transform\n",
    ")\n",
    "val_loader = DataLoader(val_dataset, batch_size=BATCH_SIZE, shuffle=False, num_workers=NUM_WORKER)"
   ]
  },
  {
   "cell_type": "code",
   "execution_count": 7,
   "metadata": {
    "execution": {
     "iopub.execute_input": "2025-04-19T16:40:41.945196Z",
     "iopub.status.busy": "2025-04-19T16:40:41.944903Z",
     "iopub.status.idle": "2025-04-19T16:40:41.961098Z",
     "shell.execute_reply": "2025-04-19T16:40:41.960223Z",
     "shell.execute_reply.started": "2025-04-19T16:40:41.945175Z"
    },
    "trusted": true
   },
   "outputs": [],
   "source": [
    "class AttentionGate(nn.Module):\n",
    "    def __init__(self, F_g, F_l, F_int):\n",
    "        super(AttentionGate, self).__init__()\n",
    "        self.W_g = nn.Sequential(\n",
    "            nn.Conv2d(F_g, F_int, kernel_size=1, stride=1, padding=0, bias=True),\n",
    "            nn.BatchNorm2d(F_int)\n",
    "        )\n",
    "\n",
    "        self.W_x = nn.Sequential(\n",
    "            nn.Conv2d(F_l, F_int, kernel_size=1, stride=1, padding=0, bias=True),\n",
    "            nn.BatchNorm2d(F_int)\n",
    "        )\n",
    "\n",
    "        self.psi = nn.Sequential(\n",
    "            nn.Conv2d(F_int, 1, kernel_size=1, stride=1, padding=0, bias=True),\n",
    "            nn.BatchNorm2d(1),\n",
    "            nn.Sigmoid()\n",
    "        )\n",
    "\n",
    "        self.relu = nn.LeakyReLU(0.01, inplace=True)\n",
    "\n",
    "    def forward(self, g, x):  # g: decoder, x: encoder\n",
    "        g1 = self.W_g(g)\n",
    "        x1 = self.W_x(x)\n",
    "        psi = self.relu(g1 + x1)\n",
    "        psi = self.psi(psi)\n",
    "        return x * psi\n",
    "\n",
    "\n",
    "class DoubleConv(nn.Module):\n",
    "    def __init__(self, in_channels, out_channels, dropout=False):\n",
    "        super(DoubleConv, self).__init__()\n",
    "        layers = [\n",
    "            nn.Conv2d(in_channels, out_channels, kernel_size=3, padding=1),\n",
    "            nn.BatchNorm2d(out_channels),\n",
    "            nn.LeakyReLU(0.01, inplace=True),\n",
    "            nn.Conv2d(out_channels, out_channels, kernel_size=3, padding=1),\n",
    "            nn.BatchNorm2d(out_channels),\n",
    "            nn.LeakyReLU(0.01, inplace=True),\n",
    "        ]\n",
    "        if dropout:\n",
    "            layers.append(nn.Dropout2d(p=0.5))\n",
    "        self.conv = nn.Sequential(*layers)\n",
    "\n",
    "    def forward(self, x):\n",
    "        return self.conv(x)\n",
    "\n",
    "\n",
    "class UNet(nn.Module):\n",
    "    def __init__(self, in_channels=3, num_classes=91):\n",
    "        super(UNet, self).__init__()\n",
    "        self.enc1 = DoubleConv(in_channels, 64)\n",
    "        self.enc2 = DoubleConv(64, 128)\n",
    "        self.enc3 = DoubleConv(128, 256)\n",
    "        self.enc4 = DoubleConv(256, 512)\n",
    "\n",
    "        self.pool = nn.MaxPool2d(2)\n",
    "\n",
    "        self.bottleneck = DoubleConv(512, 1024, dropout=True)\n",
    "\n",
    "        self.up4 = nn.ConvTranspose2d(1024, 512, kernel_size=2, stride=2)\n",
    "        self.att4 = AttentionGate(512, 512, 256)\n",
    "        self.dec4 = DoubleConv(1024, 512, dropout=True)\n",
    "\n",
    "        self.up3 = nn.ConvTranspose2d(512, 256, kernel_size=2, stride=2)\n",
    "        self.att3 = AttentionGate(256, 256, 128)\n",
    "        self.dec3 = DoubleConv(512, 256, dropout=True)\n",
    "\n",
    "        self.up2 = nn.ConvTranspose2d(256, 128, kernel_size=2, stride=2)\n",
    "        self.att2 = AttentionGate(128, 128, 64)\n",
    "        self.dec2 = DoubleConv(256, 128)\n",
    "\n",
    "        self.up1 = nn.ConvTranspose2d(128, 64, kernel_size=2, stride=2)\n",
    "        self.att1 = AttentionGate(64, 64, 32)\n",
    "        self.dec1 = DoubleConv(128, 64)\n",
    "\n",
    "        self.final = nn.Conv2d(64, num_classes, kernel_size=1)\n",
    "\n",
    "        self._init_weights()\n",
    "\n",
    "    def _init_weights(self):\n",
    "        for m in self.modules():\n",
    "            if isinstance(m, nn.Conv2d) or isinstance(m, nn.ConvTranspose2d):\n",
    "                nn.init.kaiming_normal_(m.weight, mode='fan_out', nonlinearity='leaky_relu')\n",
    "                if m.bias is not None:\n",
    "                    nn.init.constant_(m.bias, 0)\n",
    "\n",
    "    def forward(self, x):\n",
    "        enc1 = self.enc1(x)\n",
    "        enc2 = self.enc2(self.pool(enc1))\n",
    "        enc3 = self.enc3(self.pool(enc2))\n",
    "        enc4 = self.enc4(self.pool(enc3))\n",
    "\n",
    "        bottleneck = self.bottleneck(self.pool(enc4))\n",
    "\n",
    "        up4 = self.up4(bottleneck)\n",
    "        enc4_att = self.att4(up4, enc4)\n",
    "        dec4 = self.dec4(torch.cat([up4, enc4_att], dim=1))\n",
    "\n",
    "        up3 = self.up3(dec4)\n",
    "        enc3_att = self.att3(up3, enc3)\n",
    "        dec3 = self.dec3(torch.cat([up3, enc3_att], dim=1))\n",
    "\n",
    "        up2 = self.up2(dec3)\n",
    "        enc2_att = self.att2(up2, enc2)\n",
    "        dec2 = self.dec2(torch.cat([up2, enc2_att], dim=1))\n",
    "\n",
    "        up1 = self.up1(dec2)\n",
    "        enc1_att = self.att1(up1, enc1)\n",
    "        dec1 = self.dec1(torch.cat([up1, enc1_att], dim=1))\n",
    "\n",
    "        return self.final(dec1)"
   ]
  },
  {
   "cell_type": "code",
   "execution_count": 8,
   "metadata": {
    "execution": {
     "iopub.execute_input": "2025-04-19T16:40:44.410056Z",
     "iopub.status.busy": "2025-04-19T16:40:44.409782Z",
     "iopub.status.idle": "2025-04-19T16:40:45.060500Z",
     "shell.execute_reply": "2025-04-19T16:40:45.059567Z",
     "shell.execute_reply.started": "2025-04-19T16:40:44.410036Z"
    },
    "trusted": true
   },
   "outputs": [],
   "source": [
    "model = UNet().to(device)\n",
    "criterion = nn.CrossEntropyLoss()\n",
    "optimizer = optim.Adam(model.parameters(), lr=learning_rate)\n",
    "best_unet = os.path.join(MODEL_FOLDER,'best_model.pth')\n",
    "lr_scheduler = StepLR(optimizer, step_size=3, gamma=0.5)"
   ]
  },
  {
   "cell_type": "code",
   "execution_count": 9,
   "metadata": {
    "execution": {
     "iopub.execute_input": "2025-04-19T16:40:55.976228Z",
     "iopub.status.busy": "2025-04-19T16:40:55.975917Z",
     "iopub.status.idle": "2025-04-19T16:40:55.984589Z",
     "shell.execute_reply": "2025-04-19T16:40:55.983893Z",
     "shell.execute_reply.started": "2025-04-19T16:40:55.976203Z"
    },
    "trusted": true
   },
   "outputs": [
    {
     "name": "stderr",
     "output_type": "stream",
     "text": [
      "Lastest model: model_epoch_14.pth\n",
      "Model using: models/best_model.pth\n"
     ]
    }
   ],
   "source": [
    "paths = os.listdir(MODEL_FOLDER)\n",
    "model_list = sorted([path for path in paths if path.endswith('.pth')])\n",
    "epoch_models = [(int(re.search(r'(\\d+)', model).group()), model) for model in model_list if re.search(r'model_epoch_(\\d+)\\.pth', model)]\n",
    "if len(epoch_models) < 1:\n",
    "    latest_model = 0\n",
    "else:\n",
    "    latest_model = max(epoch_models, key=lambda x: x[0])[1]\n",
    "using_best = True\n",
    "if using_best:\n",
    "    model_path = best_unet\n",
    "else:\n",
    "    model_path = os.path.join(MODEL_FOLDER, str(latest_model))\n",
    "logger.info(f'Lastest model: {latest_model}')\n",
    "logger.info(f'Model using: {model_path}')"
   ]
  },
  {
   "cell_type": "code",
   "execution_count": 10,
   "metadata": {
    "execution": {
     "iopub.execute_input": "2025-04-19T16:40:58.619498Z",
     "iopub.status.busy": "2025-04-19T16:40:58.619068Z",
     "iopub.status.idle": "2025-04-19T16:40:58.755212Z",
     "shell.execute_reply": "2025-04-19T16:40:58.754274Z",
     "shell.execute_reply.started": "2025-04-19T16:40:58.619462Z"
    },
    "trusted": true
   },
   "outputs": [
    {
     "name": "stderr",
     "output_type": "stream",
     "text": [
      "Model loaded successfully on cuda\n"
     ]
    }
   ],
   "source": [
    "if os.path.exists(model_path):\n",
    "    if torch.cuda.is_available():\n",
    "        model.load_state_dict(torch.load(model_path, weights_only=True))\n",
    "    else:\n",
    "        model.load_state_dict(torch.load(model_path, weights_only=True, map_location=device))\n",
    "    model.to(device)\n",
    "    logger.info(f\"Model loaded successfully on {device}\")\n",
    "else:\n",
    "    logger.info(f\"Error: Model path '{model_path}' does not exist.\")"
   ]
  },
  {
   "cell_type": "code",
   "execution_count": 11,
   "metadata": {
    "execution": {
     "iopub.execute_input": "2025-04-19T16:41:02.229610Z",
     "iopub.status.busy": "2025-04-19T16:41:02.229308Z",
     "iopub.status.idle": "2025-04-19T16:41:02.239923Z",
     "shell.execute_reply": "2025-04-19T16:41:02.238869Z",
     "shell.execute_reply.started": "2025-04-19T16:41:02.229587Z"
    },
    "trusted": true
   },
   "outputs": [],
   "source": [
    "def calculate_dice(pred_mask, true_mask, num_classes=91):\n",
    "    dice_scores = []\n",
    "    for cls in range(1, num_classes):\n",
    "        pred_cls = (pred_mask == cls).float()\n",
    "        true_cls = (true_mask == cls).float()\n",
    "\n",
    "        intersection = (pred_cls * true_cls).sum()\n",
    "        denom = pred_cls.sum() + true_cls.sum()\n",
    "        if denom == 0:\n",
    "            continue\n",
    "        dice = (2.0 * intersection) / (denom + 1e-6)\n",
    "        dice_scores.append(dice.item())\n",
    "\n",
    "    return np.mean(dice_scores) if dice_scores else 0.0\n",
    "\n",
    "def train(model: UNet, \n",
    "          train_loader: DataLoader, \n",
    "          optimizer: optim.Adam, \n",
    "          criterion: nn.CrossEntropyLoss, \n",
    "          device: torch.device):\n",
    "    model.train()\n",
    "    \n",
    "    dice_scores, running_loss = [], []\n",
    "    min_dice, max_dice = 1, 0\n",
    "\n",
    "    loop = tqdm(train_loader, desc=\"Training\", leave=False)\n",
    "    for images, masks in loop:\n",
    "        images, masks = images.to(device), masks.to(device)\n",
    "        optimizer.zero_grad()\n",
    "        outputs = model(images)\n",
    "        loss = criterion(outputs, masks)\n",
    "        loss.backward()\n",
    "        optimizer.step()\n",
    "\n",
    "        running_loss.append(loss.item())\n",
    "\n",
    "        preds = torch.argmax(outputs, dim=1)\n",
    "        dice = calculate_dice(preds, masks)\n",
    "        dice_scores.append(dice)\n",
    "\n",
    "        min_loss = float(min(running_loss))\n",
    "        max_loss = float(max(running_loss))\n",
    "        \n",
    "        min_dice = float(min(dice, min_dice))\n",
    "        max_dice = float(max(dice, max_dice))\n",
    "        \n",
    "        loop.set_postfix(loss=loss.item(),\n",
    "                         min_loss = min_loss,\n",
    "                         max_loss = max_loss,\n",
    "                         min_dice = min_dice,\n",
    "                         max_dice = max_dice,\n",
    "                         dice = dice)\n",
    "\n",
    "    return np.array(running_loss), np.array(dice_scores)\n",
    "\n",
    "def validate(model: UNet, \n",
    "             val_loader: DataLoader, \n",
    "             criterion: nn.CrossEntropyLoss, \n",
    "             device: torch.device):  \n",
    "    model.eval()\n",
    "    dice_scores, val_losses = [], []\n",
    "\n",
    "    loop = tqdm(val_loader, desc=\"Evaluating\", leave=False)\n",
    "    for images, masks in loop:\n",
    "        images, masks = images.to(device), masks.to(device)\n",
    "\n",
    "        outputs = model(images)\n",
    "        preds = torch.argmax(outputs, dim=1)\n",
    "\n",
    "        loss = criterion(outputs, masks)\n",
    "        dice = calculate_dice(preds, masks)\n",
    "        \n",
    "        val_losses.append(loss.item())\n",
    "        dice_scores.append(dice)\n",
    "\n",
    "        loop.set_postfix(loss=loss.item())\n",
    "\n",
    "    return np.array(val_losses), np.array(dice_scores)"
   ]
  },
  {
   "cell_type": "code",
   "execution_count": 12,
   "metadata": {
    "execution": {
     "iopub.execute_input": "2025-04-19T16:41:05.623933Z",
     "iopub.status.busy": "2025-04-19T16:41:05.623619Z",
     "iopub.status.idle": "2025-04-19T16:42:07.899369Z",
     "shell.execute_reply": "2025-04-19T16:42:07.898630Z",
     "shell.execute_reply.started": "2025-04-19T16:41:05.623910Z"
    },
    "trusted": true
   },
   "outputs": [
    {
     "name": "stderr",
     "output_type": "stream",
     "text": [
      "Val Loss: 0.3256 - Val Dice: 0.7246                                       \n"
     ]
    }
   ],
   "source": [
    "if torch.cuda.is_available() and os.path.exists(model_path):\n",
    "    val_loss, val_dice = validate(model, val_loader, criterion, device)\n",
    "    val_loss_mean = np.mean(val_loss)\n",
    "    val_dice_mean = np.mean(val_dice)\n",
    "    \n",
    "    best_dice_mean = val_dice_mean\n",
    "\n",
    "    logger.info(f\"Val Loss: {val_loss_mean:.4f} - \"\n",
    "          f\"Val Dice: {val_dice_mean:.4f}\")\n",
    "else:\n",
    "    best_dice_mean = 0.6351"
   ]
  },
  {
   "cell_type": "code",
   "execution_count": 15,
   "metadata": {
    "execution": {
     "iopub.execute_input": "2025-04-19T16:43:44.514065Z",
     "iopub.status.busy": "2025-04-19T16:43:44.513778Z",
     "iopub.status.idle": "2025-04-19T16:43:48.944039Z",
     "shell.execute_reply": "2025-04-19T16:43:48.943363Z",
     "shell.execute_reply.started": "2025-04-19T16:43:44.514044Z"
    },
    "trusted": true
   },
   "outputs": [
    {
     "name": "stderr",
     "output_type": "stream",
     "text": [
      "Dice: 0.7246\n",
      "Object Released: 0\n"
     ]
    }
   ],
   "source": [
    "logger.info(f'Dice: {best_dice_mean:.4f}')\n",
    "logger.info(f'Object Released: {gc.collect()}')"
   ]
  },
  {
   "cell_type": "code",
   "execution_count": null,
   "metadata": {
    "execution": {
     "execution_failed": "2025-04-20T04:13:03.709Z",
     "iopub.execute_input": "2025-04-19T16:43:59.588126Z",
     "iopub.status.busy": "2025-04-19T16:43:59.587838Z"
    },
    "trusted": true
   },
   "outputs": [
    {
     "name": "stderr",
     "output_type": "stream",
     "text": [
      "=========================Epoch 1/ 6=========================\n",
      "Epoch 1/6 - Train Loss: 0.3681 (min: 0.1233, max: 1.1499), Val Loss: 0.3218 (min: 0.0807, max: 0.6889) - Train Dice: 0.6354 (min: 0.1409, max: 0.9214), Val Dice: 0.7346 (min: 0.3570, max: 0.9194) - Time: 6527.78s - Release: 0 objects\n",
      "Saved new Best Model! -  Loss: 0.3218, Dice 0.7346\n",
      "Saved Model: model_epoch_1.pth\n",
      "=========================Epoch 2/ 6=========================\n",
      "Epoch 2/6 - Train Loss: 0.3652 (min: 0.1148, max: 1.2803), Val Loss: 0.3283 (min: 0.0946, max: 0.7159) - Train Dice: 0.6384 (min: 0.1459, max: 0.9352), Val Dice: 0.7138 (min: 0.4050, max: 0.9377) - Time: 6526.08s - Release: 0 objects\n",
      "Early Stopping Counter: 1/3\n",
      "Saved Model: model_epoch_2.pth\n",
      "=========================Epoch 3/ 6=========================\n",
      "Training:  87%|████████▋ | 24390/27909 [1:33:58<13:33,  4.32it/s, dice=0.649, loss=0.439, max_dice=0.92, max_loss=0.998, min_dice=0.0604, min_loss=0.102] IOPub message rate exceeded.\n",
      "The notebook server will temporarily stop sending output\n",
      "to the client in order to avoid crashing it.\n",
      "To change this limit, set the config variable\n",
      "`--NotebookApp.iopub_msg_rate_limit`.\n",
      "\n",
      "Current values:\n",
      "NotebookApp.iopub_msg_rate_limit=10000.0 (msgs/sec)\n",
      "NotebookApp.rate_limit_window=1.0 (secs)\n",
      "\n",
      "Training:   6%|▋         | 1780/27909 [06:50<1:39:56,  4.36it/s, dice=0.572, loss=0.431, max_dice=0.898, max_loss=0.697, min_dice=0.203, min_loss=0.13]"
     ]
    }
   ],
   "source": [
    "train_loss_history = []\n",
    "train_dice_history = []\n",
    "val_loss_history = []\n",
    "val_dice_history = []\n",
    "for epoch in range(epochs):\n",
    "    logger.info('=' * 25 + f'Epoch {epoch + 1}/ {epochs}' + '=' * 25)\n",
    "    start_time = time.time()\n",
    "\n",
    "    # Train the model and get the metrics\n",
    "    train_loss, train_dice = train(model, train_loader, optimizer, criterion, device)\n",
    "    # Validate the model and get the metrics\n",
    "    val_loss, val_dice = validate(model, val_loader, criterion, device)\n",
    "\n",
    "    epoch_time = time.time() - start_time\n",
    "    \n",
    "    # Compute min, max, and mean for train and val metrics\n",
    "    train_loss_min = np.min(train_loss)\n",
    "    train_loss_max = np.max(train_loss)\n",
    "    train_loss_mean = np.mean(train_loss)\n",
    "\n",
    "    train_dice_min = np.min(train_dice)\n",
    "    train_dice_max = np.max(train_dice)\n",
    "    train_dice_mean = np.mean(train_dice)\n",
    "\n",
    "    val_loss_min = np.min(val_loss)\n",
    "    val_loss_max = np.max(val_loss)\n",
    "    val_loss_mean = np.mean(val_loss)\n",
    "    \n",
    "    val_dice_min = np.min(val_dice)\n",
    "    val_dice_max = np.max(val_dice)\n",
    "    val_dice_mean = np.mean(val_dice)\n",
    "    \n",
    "    logger.info(f\"Epoch {epoch+1}/{epochs} - \"\n",
    "          f\"Train Loss: {train_loss_mean:.4f} (min: {train_loss_min:.4f}, max: {train_loss_max:.4f}), \"\n",
    "          f\"Val Loss: {val_loss_mean:.4f} (min: {val_loss_min:.4f}, max: {val_loss_max:.4f}) - \"\n",
    "          f\"Train Dice: {train_dice_mean:.4f} (min: {train_dice_min:.4f}, max: {train_dice_max:.4f}), \"\n",
    "          f\"Val Dice: {val_dice_mean:.4f} (min: {val_dice_min:.4f}, max: {val_dice_max:.4f}) - \"\n",
    "          f\"Time: {epoch_time:.2f}s - Release: {gc.collect()} objects\")\n",
    "    \n",
    "    if torch.cuda.is_available():\n",
    "        torch.cuda.empty_cache()\n",
    "        torch.cuda.ipc_collect()\n",
    "        \n",
    "    if val_dice_mean > best_dice_mean:\n",
    "        best_dice_mean = val_dice_mean\n",
    "        counter = 0\n",
    "        torch.save(model.state_dict(), os.path.join(MODEL_FOLDER, 'best_model.pth'))\n",
    "        logger.info(f\"Saved new Best Model! -  Loss: {val_loss_mean:.4f}, Dice {val_dice_mean:.4f}\")\n",
    "    else:\n",
    "        counter += 1\n",
    "        logger.info(f\"Early Stopping Counter: {counter}/{patience}\")\n",
    "    \n",
    "    # Save the model with the current epoch\n",
    "    saved_models = [f for f in os.listdir(MODEL_FOLDER) if re.match(r'model_epoch_\\d+\\.pth', f)]\n",
    "    max_epoch = 0\n",
    "    if saved_models:\n",
    "        max_epoch = max(int(re.search(r'model_epoch_(\\d+)\\.pth', f).group(1)) for f in saved_models)\n",
    "    \n",
    "    next_epoch = max_epoch + 1\n",
    "    torch.save(model.state_dict(), os.path.join(MODEL_FOLDER, f\"model_epoch_{next_epoch}.pth\"))\n",
    "    logger.info(f\"Saved Model: model_epoch_{next_epoch}.pth\")\n",
    "    \n",
    "    if counter >= patience:\n",
    "        logger.info(\"Early stopping triggered! Training stopped.\")\n",
    "        break\n",
    "\n",
    "    # Append the metrics to the history lists\n",
    "    train_loss_history.append(np.mean(train_loss))\n",
    "    train_dice_history.append(np.mean(train_dice))\n",
    "    val_loss_history.append(np.mean(val_loss))\n",
    "    val_dice_history.append(np.mean(val_dice))\n",
    "    \n",
    "    lr_scheduler.step()"
   ]
  },
  {
   "cell_type": "code",
   "execution_count": 20,
   "metadata": {
    "execution": {
     "iopub.execute_input": "2025-04-20T04:02:40.286598Z",
     "iopub.status.busy": "2025-04-20T04:02:40.286299Z",
     "iopub.status.idle": "2025-04-20T04:02:45.391470Z",
     "shell.execute_reply": "2025-04-20T04:02:45.390609Z",
     "shell.execute_reply.started": "2025-04-20T04:02:40.286573Z"
    },
    "trusted": true
   },
   "outputs": [
    {
     "name": "stderr",
     "output_type": "stream",
     "text": [
      "Dice: 0.7457\n",
      "Object Released: 14899\n"
     ]
    }
   ],
   "source": [
    "logger.info(f'Dice: {best_dice_mean:.4f}')\n",
    "logger.info(f'Object Released: {gc.collect()}')"
   ]
  },
  {
   "cell_type": "code",
   "execution_count": null,
   "metadata": {
    "execution": {
     "iopub.execute_input": "2025-04-20T04:09:46.471580Z",
     "iopub.status.busy": "2025-04-20T04:09:46.471216Z",
     "iopub.status.idle": "2025-04-20T04:10:46.257373Z",
     "shell.execute_reply": "2025-04-20T04:10:46.256648Z",
     "shell.execute_reply.started": "2025-04-20T04:09:46.471550Z"
    },
    "trusted": true
   },
   "outputs": [],
   "source": [
    "val_loss, val_dice = validate(model, val_loader, criterion, device)\n",
    "val_loss_mean = np.mean(val_loss)\n",
    "val_dice_mean = np.mean(val_dice)\n",
    "\n",
    "best_dice_mean = max(best_dice_mean, val_dice_mean)\n",
    "\n",
    "logger.info(f\"Val Loss: {val_loss_mean:.4f} - \", \n",
    "      f\"Val Dice: {val_dice_mean:.4f}\")"
   ]
  },
  {
   "cell_type": "code",
   "execution_count": 19,
   "metadata": {
    "execution": {
     "iopub.execute_input": "2025-04-20T04:02:35.945463Z",
     "iopub.status.busy": "2025-04-20T04:02:35.945157Z",
     "iopub.status.idle": "2025-04-20T04:02:36.645705Z",
     "shell.execute_reply": "2025-04-20T04:02:36.644727Z",
     "shell.execute_reply.started": "2025-04-20T04:02:35.945438Z"
    },
    "trusted": true
   },
   "outputs": [
    {
     "data": {
      "image/png": "[encoded data removed]",
      "text/plain": [
       "<Figure size 1800x500 with 2 Axes>"
      ]
     },
     "metadata": {},
     "output_type": "display_data"
    }
   ],
   "source": [
    "r = list(range(1, epochs + 1))\n",
    "\n",
    "plt.figure(figsize=(18, 5))\n",
    "\n",
    "# Loss\n",
    "plt.subplot(1, 2, 1)\n",
    "plt.plot(r, train_loss_history, label='Train Loss')\n",
    "plt.plot(r, val_loss_history, label='Val Loss')\n",
    "plt.xlabel('Epoch')\n",
    "plt.ylabel('Loss')\n",
    "plt.title('Loss over Epochs')\n",
    "plt.legend()\n",
    "plt.grid(True)\n",
    "\n",
    "# Dice\n",
    "plt.subplot(1, 2, 2)\n",
    "plt.plot(r, train_dice_history, label='Train Dice')\n",
    "plt.plot(r, val_dice_history, label='Val Dice')\n",
    "plt.xlabel('Epoch')\n",
    "plt.ylabel('Dice')\n",
    "plt.title('Dice over Epochs')\n",
    "plt.legend()\n",
    "plt.grid(True)\n",
    "\n",
    "plt.tight_layout()\n",
    "plt.savefig('history.png')\n",
    "plt.show()"
   ]
  }
 ],
 "metadata": {
  "kaggle": {
   "accelerator": "gpu",
   "dataSources": [
    {
     "datasetId": 857191,
     "sourceId": 1462296,
     "sourceType": "datasetVersion"
    },
    {
     "datasetId": 2273823,
     "sourceId": 3816852,
     "sourceType": "datasetVersion"
    },
    {
     "isSourceIdPinned": true,
     "modelId": 306925,
     "modelInstanceId": 286090,
     "sourceId": 342018,
     "sourceType": "modelInstanceVersion"
    }
   ],
   "dockerImageVersionId": 30919,
   "isGpuEnabled": true,
   "isInternetEnabled": true,
   "language": "python",
   "sourceType": "notebook"
  },
  "kernelspec": {
   "display_name": "Python 3",
   "language": "python",
   "name": "python3"
  },
  "language_info": {
   "codemirror_mode": {
    "name": "ipython",
    "version": 3
   },
   "file_extension": ".py",
   "mimetype": "text/x-python",
   "name": "python",
   "nbconvert_exporter": "python",
   "pygments_lexer": "ipython3",
   "version": "3.10.12"
  }
 },
 "nbformat": 4,
 "nbformat_minor": 4
}
